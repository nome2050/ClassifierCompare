{
 "cells": [
  {
   "cell_type": "code",
   "execution_count": 268,
   "metadata": {},
   "outputs": [],
   "source": [
    "import pandas as pd\n",
    "import numpy as np\n",
    "import matplotlib as mlp"
   ]
  },
  {
   "cell_type": "code",
   "execution_count": 188,
   "metadata": {},
   "outputs": [],
   "source": [
    "ds = pd.read_csv(\"student-por.csv\",header=None)"
   ]
  },
  {
   "cell_type": "code",
   "execution_count": 189,
   "metadata": {},
   "outputs": [
    {
     "data": {
      "text/html": [
       "<div>\n",
       "<style scoped>\n",
       "    .dataframe tbody tr th:only-of-type {\n",
       "        vertical-align: middle;\n",
       "    }\n",
       "\n",
       "    .dataframe tbody tr th {\n",
       "        vertical-align: top;\n",
       "    }\n",
       "\n",
       "    .dataframe thead th {\n",
       "        text-align: right;\n",
       "    }\n",
       "</style>\n",
       "<table border=\"1\" class=\"dataframe\">\n",
       "  <thead>\n",
       "    <tr style=\"text-align: right;\">\n",
       "      <th></th>\n",
       "      <th>0</th>\n",
       "    </tr>\n",
       "  </thead>\n",
       "  <tbody>\n",
       "    <tr>\n",
       "      <th>0</th>\n",
       "      <td>school;sex;age;address;famsize;Pstatus;Medu;Fe...</td>\n",
       "    </tr>\n",
       "    <tr>\n",
       "      <th>1</th>\n",
       "      <td>GP;\"F\";18;\"U\";\"GT3\";\"A\";4;4;\"at_home\";\"teacher...</td>\n",
       "    </tr>\n",
       "    <tr>\n",
       "      <th>2</th>\n",
       "      <td>GP;\"F\";17;\"U\";\"GT3\";\"T\";1;1;\"at_home\";\"other\";...</td>\n",
       "    </tr>\n",
       "    <tr>\n",
       "      <th>3</th>\n",
       "      <td>GP;\"F\";15;\"U\";\"LE3\";\"T\";1;1;\"at_home\";\"other\";...</td>\n",
       "    </tr>\n",
       "    <tr>\n",
       "      <th>4</th>\n",
       "      <td>GP;\"F\";15;\"U\";\"GT3\";\"T\";4;2;\"health\";\"services...</td>\n",
       "    </tr>\n",
       "  </tbody>\n",
       "</table>\n",
       "</div>"
      ],
      "text/plain": [
       "                                                   0\n",
       "0  school;sex;age;address;famsize;Pstatus;Medu;Fe...\n",
       "1  GP;\"F\";18;\"U\";\"GT3\";\"A\";4;4;\"at_home\";\"teacher...\n",
       "2  GP;\"F\";17;\"U\";\"GT3\";\"T\";1;1;\"at_home\";\"other\";...\n",
       "3  GP;\"F\";15;\"U\";\"LE3\";\"T\";1;1;\"at_home\";\"other\";...\n",
       "4  GP;\"F\";15;\"U\";\"GT3\";\"T\";4;2;\"health\";\"services..."
      ]
     },
     "execution_count": 189,
     "metadata": {},
     "output_type": "execute_result"
    }
   ],
   "source": [
    "ds.head()"
   ]
  },
  {
   "cell_type": "code",
   "execution_count": 190,
   "metadata": {},
   "outputs": [],
   "source": [
    "header = ds[0][0]"
   ]
  },
  {
   "cell_type": "code",
   "execution_count": 191,
   "metadata": {},
   "outputs": [
    {
     "data": {
      "text/plain": [
       "'school;sex;age;address;famsize;Pstatus;Medu;Fedu;Mjob;Fjob;reason;guardian;traveltime;studytime;failures;schoolsup;famsup;paid;activities;nursery;higher;internet;romantic;famrel;freetime;goout;Dalc;Walc;health;absences;G1;G2;G3'"
      ]
     },
     "execution_count": 191,
     "metadata": {},
     "output_type": "execute_result"
    }
   ],
   "source": [
    "header"
   ]
  },
  {
   "cell_type": "code",
   "execution_count": 192,
   "metadata": {},
   "outputs": [],
   "source": [
    "header = header.split(';')"
   ]
  },
  {
   "cell_type": "code",
   "execution_count": 193,
   "metadata": {},
   "outputs": [
    {
     "data": {
      "text/plain": [
       "['school',\n",
       " 'sex',\n",
       " 'age',\n",
       " 'address',\n",
       " 'famsize',\n",
       " 'Pstatus',\n",
       " 'Medu',\n",
       " 'Fedu',\n",
       " 'Mjob',\n",
       " 'Fjob',\n",
       " 'reason',\n",
       " 'guardian',\n",
       " 'traveltime',\n",
       " 'studytime',\n",
       " 'failures',\n",
       " 'schoolsup',\n",
       " 'famsup',\n",
       " 'paid',\n",
       " 'activities',\n",
       " 'nursery',\n",
       " 'higher',\n",
       " 'internet',\n",
       " 'romantic',\n",
       " 'famrel',\n",
       " 'freetime',\n",
       " 'goout',\n",
       " 'Dalc',\n",
       " 'Walc',\n",
       " 'health',\n",
       " 'absences',\n",
       " 'G1',\n",
       " 'G2',\n",
       " 'G3']"
      ]
     },
     "execution_count": 193,
     "metadata": {},
     "output_type": "execute_result"
    }
   ],
   "source": [
    "header"
   ]
  },
  {
   "cell_type": "code",
   "execution_count": 194,
   "metadata": {},
   "outputs": [],
   "source": [
    "ds = ds.drop(ds.index[0])"
   ]
  },
  {
   "cell_type": "code",
   "execution_count": 195,
   "metadata": {},
   "outputs": [
    {
     "data": {
      "text/html": [
       "<div>\n",
       "<style scoped>\n",
       "    .dataframe tbody tr th:only-of-type {\n",
       "        vertical-align: middle;\n",
       "    }\n",
       "\n",
       "    .dataframe tbody tr th {\n",
       "        vertical-align: top;\n",
       "    }\n",
       "\n",
       "    .dataframe thead th {\n",
       "        text-align: right;\n",
       "    }\n",
       "</style>\n",
       "<table border=\"1\" class=\"dataframe\">\n",
       "  <thead>\n",
       "    <tr style=\"text-align: right;\">\n",
       "      <th></th>\n",
       "      <th>0</th>\n",
       "    </tr>\n",
       "  </thead>\n",
       "  <tbody>\n",
       "    <tr>\n",
       "      <th>1</th>\n",
       "      <td>GP;\"F\";18;\"U\";\"GT3\";\"A\";4;4;\"at_home\";\"teacher...</td>\n",
       "    </tr>\n",
       "    <tr>\n",
       "      <th>2</th>\n",
       "      <td>GP;\"F\";17;\"U\";\"GT3\";\"T\";1;1;\"at_home\";\"other\";...</td>\n",
       "    </tr>\n",
       "    <tr>\n",
       "      <th>3</th>\n",
       "      <td>GP;\"F\";15;\"U\";\"LE3\";\"T\";1;1;\"at_home\";\"other\";...</td>\n",
       "    </tr>\n",
       "    <tr>\n",
       "      <th>4</th>\n",
       "      <td>GP;\"F\";15;\"U\";\"GT3\";\"T\";4;2;\"health\";\"services...</td>\n",
       "    </tr>\n",
       "    <tr>\n",
       "      <th>5</th>\n",
       "      <td>GP;\"F\";16;\"U\";\"GT3\";\"T\";3;3;\"other\";\"other\";\"h...</td>\n",
       "    </tr>\n",
       "  </tbody>\n",
       "</table>\n",
       "</div>"
      ],
      "text/plain": [
       "                                                   0\n",
       "1  GP;\"F\";18;\"U\";\"GT3\";\"A\";4;4;\"at_home\";\"teacher...\n",
       "2  GP;\"F\";17;\"U\";\"GT3\";\"T\";1;1;\"at_home\";\"other\";...\n",
       "3  GP;\"F\";15;\"U\";\"LE3\";\"T\";1;1;\"at_home\";\"other\";...\n",
       "4  GP;\"F\";15;\"U\";\"GT3\";\"T\";4;2;\"health\";\"services...\n",
       "5  GP;\"F\";16;\"U\";\"GT3\";\"T\";3;3;\"other\";\"other\";\"h..."
      ]
     },
     "execution_count": 195,
     "metadata": {},
     "output_type": "execute_result"
    }
   ],
   "source": [
    "ds.head()"
   ]
  },
  {
   "cell_type": "code",
   "execution_count": 196,
   "metadata": {},
   "outputs": [],
   "source": [
    "ds.rename( columns={0 :'column'}, inplace=True )"
   ]
  },
  {
   "cell_type": "code",
   "execution_count": 197,
   "metadata": {},
   "outputs": [],
   "source": [
    "ds[['school',\n",
    " 'sex',\n",
    " 'age',\n",
    " 'address',\n",
    " 'famsize',\n",
    " 'Pstatus',\n",
    " 'Medu',\n",
    " 'Fedu',\n",
    " 'Mjob',\n",
    " 'Fjob',\n",
    " 'reason',\n",
    " 'guardian',\n",
    " 'traveltime',\n",
    " 'studytime',\n",
    " 'failures',\n",
    " 'schoolsup',\n",
    " 'famsup',\n",
    " 'paid',\n",
    " 'activities',\n",
    " 'nursery',\n",
    " 'higher',\n",
    " 'internet',\n",
    " 'romantic',\n",
    " 'famrel',\n",
    " 'freetime',\n",
    " 'goout',\n",
    " 'Dalc',\n",
    " 'Walc',\n",
    " 'health',\n",
    " 'absences',\n",
    " 'G1',\n",
    " 'G2',\n",
    " 'G3']]=ds.column.str.split(\";\",expand=True,)"
   ]
  },
  {
   "cell_type": "code",
   "execution_count": 198,
   "metadata": {},
   "outputs": [
    {
     "data": {
      "text/html": [
       "<div>\n",
       "<style scoped>\n",
       "    .dataframe tbody tr th:only-of-type {\n",
       "        vertical-align: middle;\n",
       "    }\n",
       "\n",
       "    .dataframe tbody tr th {\n",
       "        vertical-align: top;\n",
       "    }\n",
       "\n",
       "    .dataframe thead th {\n",
       "        text-align: right;\n",
       "    }\n",
       "</style>\n",
       "<table border=\"1\" class=\"dataframe\">\n",
       "  <thead>\n",
       "    <tr style=\"text-align: right;\">\n",
       "      <th></th>\n",
       "      <th>column</th>\n",
       "      <th>school</th>\n",
       "      <th>sex</th>\n",
       "      <th>age</th>\n",
       "      <th>address</th>\n",
       "      <th>famsize</th>\n",
       "      <th>Pstatus</th>\n",
       "      <th>Medu</th>\n",
       "      <th>Fedu</th>\n",
       "      <th>Mjob</th>\n",
       "      <th>...</th>\n",
       "      <th>famrel</th>\n",
       "      <th>freetime</th>\n",
       "      <th>goout</th>\n",
       "      <th>Dalc</th>\n",
       "      <th>Walc</th>\n",
       "      <th>health</th>\n",
       "      <th>absences</th>\n",
       "      <th>G1</th>\n",
       "      <th>G2</th>\n",
       "      <th>G3</th>\n",
       "    </tr>\n",
       "  </thead>\n",
       "  <tbody>\n",
       "    <tr>\n",
       "      <th>1</th>\n",
       "      <td>GP;\"F\";18;\"U\";\"GT3\";\"A\";4;4;\"at_home\";\"teacher...</td>\n",
       "      <td>GP</td>\n",
       "      <td>\"F\"</td>\n",
       "      <td>18</td>\n",
       "      <td>\"U\"</td>\n",
       "      <td>\"GT3\"</td>\n",
       "      <td>\"A\"</td>\n",
       "      <td>4</td>\n",
       "      <td>4</td>\n",
       "      <td>\"at_home\"</td>\n",
       "      <td>...</td>\n",
       "      <td>4</td>\n",
       "      <td>3</td>\n",
       "      <td>4</td>\n",
       "      <td>1</td>\n",
       "      <td>1</td>\n",
       "      <td>3</td>\n",
       "      <td>4</td>\n",
       "      <td>\"0\"</td>\n",
       "      <td>\"11\"</td>\n",
       "      <td>11</td>\n",
       "    </tr>\n",
       "    <tr>\n",
       "      <th>2</th>\n",
       "      <td>GP;\"F\";17;\"U\";\"GT3\";\"T\";1;1;\"at_home\";\"other\";...</td>\n",
       "      <td>GP</td>\n",
       "      <td>\"F\"</td>\n",
       "      <td>17</td>\n",
       "      <td>\"U\"</td>\n",
       "      <td>\"GT3\"</td>\n",
       "      <td>\"T\"</td>\n",
       "      <td>1</td>\n",
       "      <td>1</td>\n",
       "      <td>\"at_home\"</td>\n",
       "      <td>...</td>\n",
       "      <td>5</td>\n",
       "      <td>3</td>\n",
       "      <td>3</td>\n",
       "      <td>1</td>\n",
       "      <td>1</td>\n",
       "      <td>3</td>\n",
       "      <td>2</td>\n",
       "      <td>\"9\"</td>\n",
       "      <td>\"11\"</td>\n",
       "      <td>11</td>\n",
       "    </tr>\n",
       "    <tr>\n",
       "      <th>3</th>\n",
       "      <td>GP;\"F\";15;\"U\";\"LE3\";\"T\";1;1;\"at_home\";\"other\";...</td>\n",
       "      <td>GP</td>\n",
       "      <td>\"F\"</td>\n",
       "      <td>15</td>\n",
       "      <td>\"U\"</td>\n",
       "      <td>\"LE3\"</td>\n",
       "      <td>\"T\"</td>\n",
       "      <td>1</td>\n",
       "      <td>1</td>\n",
       "      <td>\"at_home\"</td>\n",
       "      <td>...</td>\n",
       "      <td>4</td>\n",
       "      <td>3</td>\n",
       "      <td>2</td>\n",
       "      <td>2</td>\n",
       "      <td>3</td>\n",
       "      <td>3</td>\n",
       "      <td>6</td>\n",
       "      <td>\"12\"</td>\n",
       "      <td>\"13\"</td>\n",
       "      <td>12</td>\n",
       "    </tr>\n",
       "    <tr>\n",
       "      <th>4</th>\n",
       "      <td>GP;\"F\";15;\"U\";\"GT3\";\"T\";4;2;\"health\";\"services...</td>\n",
       "      <td>GP</td>\n",
       "      <td>\"F\"</td>\n",
       "      <td>15</td>\n",
       "      <td>\"U\"</td>\n",
       "      <td>\"GT3\"</td>\n",
       "      <td>\"T\"</td>\n",
       "      <td>4</td>\n",
       "      <td>2</td>\n",
       "      <td>\"health\"</td>\n",
       "      <td>...</td>\n",
       "      <td>3</td>\n",
       "      <td>2</td>\n",
       "      <td>2</td>\n",
       "      <td>1</td>\n",
       "      <td>1</td>\n",
       "      <td>5</td>\n",
       "      <td>0</td>\n",
       "      <td>\"14\"</td>\n",
       "      <td>\"14\"</td>\n",
       "      <td>14</td>\n",
       "    </tr>\n",
       "    <tr>\n",
       "      <th>5</th>\n",
       "      <td>GP;\"F\";16;\"U\";\"GT3\";\"T\";3;3;\"other\";\"other\";\"h...</td>\n",
       "      <td>GP</td>\n",
       "      <td>\"F\"</td>\n",
       "      <td>16</td>\n",
       "      <td>\"U\"</td>\n",
       "      <td>\"GT3\"</td>\n",
       "      <td>\"T\"</td>\n",
       "      <td>3</td>\n",
       "      <td>3</td>\n",
       "      <td>\"other\"</td>\n",
       "      <td>...</td>\n",
       "      <td>4</td>\n",
       "      <td>3</td>\n",
       "      <td>2</td>\n",
       "      <td>1</td>\n",
       "      <td>2</td>\n",
       "      <td>5</td>\n",
       "      <td>0</td>\n",
       "      <td>\"11\"</td>\n",
       "      <td>\"13\"</td>\n",
       "      <td>13</td>\n",
       "    </tr>\n",
       "  </tbody>\n",
       "</table>\n",
       "<p>5 rows × 34 columns</p>\n",
       "</div>"
      ],
      "text/plain": [
       "                                              column school  sex age address  \\\n",
       "1  GP;\"F\";18;\"U\";\"GT3\";\"A\";4;4;\"at_home\";\"teacher...     GP  \"F\"  18     \"U\"   \n",
       "2  GP;\"F\";17;\"U\";\"GT3\";\"T\";1;1;\"at_home\";\"other\";...     GP  \"F\"  17     \"U\"   \n",
       "3  GP;\"F\";15;\"U\";\"LE3\";\"T\";1;1;\"at_home\";\"other\";...     GP  \"F\"  15     \"U\"   \n",
       "4  GP;\"F\";15;\"U\";\"GT3\";\"T\";4;2;\"health\";\"services...     GP  \"F\"  15     \"U\"   \n",
       "5  GP;\"F\";16;\"U\";\"GT3\";\"T\";3;3;\"other\";\"other\";\"h...     GP  \"F\"  16     \"U\"   \n",
       "\n",
       "  famsize Pstatus Medu Fedu       Mjob ... famrel freetime goout Dalc Walc  \\\n",
       "1   \"GT3\"     \"A\"    4    4  \"at_home\" ...      4        3     4    1    1   \n",
       "2   \"GT3\"     \"T\"    1    1  \"at_home\" ...      5        3     3    1    1   \n",
       "3   \"LE3\"     \"T\"    1    1  \"at_home\" ...      4        3     2    2    3   \n",
       "4   \"GT3\"     \"T\"    4    2   \"health\" ...      3        2     2    1    1   \n",
       "5   \"GT3\"     \"T\"    3    3    \"other\" ...      4        3     2    1    2   \n",
       "\n",
       "  health absences    G1    G2  G3  \n",
       "1      3        4   \"0\"  \"11\"  11  \n",
       "2      3        2   \"9\"  \"11\"  11  \n",
       "3      3        6  \"12\"  \"13\"  12  \n",
       "4      5        0  \"14\"  \"14\"  14  \n",
       "5      5        0  \"11\"  \"13\"  13  \n",
       "\n",
       "[5 rows x 34 columns]"
      ]
     },
     "execution_count": 198,
     "metadata": {},
     "output_type": "execute_result"
    }
   ],
   "source": [
    "ds.head()"
   ]
  },
  {
   "cell_type": "code",
   "execution_count": 199,
   "metadata": {},
   "outputs": [],
   "source": [
    "ds = ds.drop(columns=(\"column\"))"
   ]
  },
  {
   "cell_type": "code",
   "execution_count": 200,
   "metadata": {},
   "outputs": [
    {
     "data": {
      "text/html": [
       "<div>\n",
       "<style scoped>\n",
       "    .dataframe tbody tr th:only-of-type {\n",
       "        vertical-align: middle;\n",
       "    }\n",
       "\n",
       "    .dataframe tbody tr th {\n",
       "        vertical-align: top;\n",
       "    }\n",
       "\n",
       "    .dataframe thead th {\n",
       "        text-align: right;\n",
       "    }\n",
       "</style>\n",
       "<table border=\"1\" class=\"dataframe\">\n",
       "  <thead>\n",
       "    <tr style=\"text-align: right;\">\n",
       "      <th></th>\n",
       "      <th>school</th>\n",
       "      <th>sex</th>\n",
       "      <th>age</th>\n",
       "      <th>address</th>\n",
       "      <th>famsize</th>\n",
       "      <th>Pstatus</th>\n",
       "      <th>Medu</th>\n",
       "      <th>Fedu</th>\n",
       "      <th>Mjob</th>\n",
       "      <th>Fjob</th>\n",
       "      <th>...</th>\n",
       "      <th>famrel</th>\n",
       "      <th>freetime</th>\n",
       "      <th>goout</th>\n",
       "      <th>Dalc</th>\n",
       "      <th>Walc</th>\n",
       "      <th>health</th>\n",
       "      <th>absences</th>\n",
       "      <th>G1</th>\n",
       "      <th>G2</th>\n",
       "      <th>G3</th>\n",
       "    </tr>\n",
       "  </thead>\n",
       "  <tbody>\n",
       "    <tr>\n",
       "      <th>1</th>\n",
       "      <td>GP</td>\n",
       "      <td>\"F\"</td>\n",
       "      <td>18</td>\n",
       "      <td>\"U\"</td>\n",
       "      <td>\"GT3\"</td>\n",
       "      <td>\"A\"</td>\n",
       "      <td>4</td>\n",
       "      <td>4</td>\n",
       "      <td>\"at_home\"</td>\n",
       "      <td>\"teacher\"</td>\n",
       "      <td>...</td>\n",
       "      <td>4</td>\n",
       "      <td>3</td>\n",
       "      <td>4</td>\n",
       "      <td>1</td>\n",
       "      <td>1</td>\n",
       "      <td>3</td>\n",
       "      <td>4</td>\n",
       "      <td>\"0\"</td>\n",
       "      <td>\"11\"</td>\n",
       "      <td>11</td>\n",
       "    </tr>\n",
       "    <tr>\n",
       "      <th>2</th>\n",
       "      <td>GP</td>\n",
       "      <td>\"F\"</td>\n",
       "      <td>17</td>\n",
       "      <td>\"U\"</td>\n",
       "      <td>\"GT3\"</td>\n",
       "      <td>\"T\"</td>\n",
       "      <td>1</td>\n",
       "      <td>1</td>\n",
       "      <td>\"at_home\"</td>\n",
       "      <td>\"other\"</td>\n",
       "      <td>...</td>\n",
       "      <td>5</td>\n",
       "      <td>3</td>\n",
       "      <td>3</td>\n",
       "      <td>1</td>\n",
       "      <td>1</td>\n",
       "      <td>3</td>\n",
       "      <td>2</td>\n",
       "      <td>\"9\"</td>\n",
       "      <td>\"11\"</td>\n",
       "      <td>11</td>\n",
       "    </tr>\n",
       "    <tr>\n",
       "      <th>3</th>\n",
       "      <td>GP</td>\n",
       "      <td>\"F\"</td>\n",
       "      <td>15</td>\n",
       "      <td>\"U\"</td>\n",
       "      <td>\"LE3\"</td>\n",
       "      <td>\"T\"</td>\n",
       "      <td>1</td>\n",
       "      <td>1</td>\n",
       "      <td>\"at_home\"</td>\n",
       "      <td>\"other\"</td>\n",
       "      <td>...</td>\n",
       "      <td>4</td>\n",
       "      <td>3</td>\n",
       "      <td>2</td>\n",
       "      <td>2</td>\n",
       "      <td>3</td>\n",
       "      <td>3</td>\n",
       "      <td>6</td>\n",
       "      <td>\"12\"</td>\n",
       "      <td>\"13\"</td>\n",
       "      <td>12</td>\n",
       "    </tr>\n",
       "    <tr>\n",
       "      <th>4</th>\n",
       "      <td>GP</td>\n",
       "      <td>\"F\"</td>\n",
       "      <td>15</td>\n",
       "      <td>\"U\"</td>\n",
       "      <td>\"GT3\"</td>\n",
       "      <td>\"T\"</td>\n",
       "      <td>4</td>\n",
       "      <td>2</td>\n",
       "      <td>\"health\"</td>\n",
       "      <td>\"services\"</td>\n",
       "      <td>...</td>\n",
       "      <td>3</td>\n",
       "      <td>2</td>\n",
       "      <td>2</td>\n",
       "      <td>1</td>\n",
       "      <td>1</td>\n",
       "      <td>5</td>\n",
       "      <td>0</td>\n",
       "      <td>\"14\"</td>\n",
       "      <td>\"14\"</td>\n",
       "      <td>14</td>\n",
       "    </tr>\n",
       "    <tr>\n",
       "      <th>5</th>\n",
       "      <td>GP</td>\n",
       "      <td>\"F\"</td>\n",
       "      <td>16</td>\n",
       "      <td>\"U\"</td>\n",
       "      <td>\"GT3\"</td>\n",
       "      <td>\"T\"</td>\n",
       "      <td>3</td>\n",
       "      <td>3</td>\n",
       "      <td>\"other\"</td>\n",
       "      <td>\"other\"</td>\n",
       "      <td>...</td>\n",
       "      <td>4</td>\n",
       "      <td>3</td>\n",
       "      <td>2</td>\n",
       "      <td>1</td>\n",
       "      <td>2</td>\n",
       "      <td>5</td>\n",
       "      <td>0</td>\n",
       "      <td>\"11\"</td>\n",
       "      <td>\"13\"</td>\n",
       "      <td>13</td>\n",
       "    </tr>\n",
       "  </tbody>\n",
       "</table>\n",
       "<p>5 rows × 33 columns</p>\n",
       "</div>"
      ],
      "text/plain": [
       "  school  sex age address famsize Pstatus Medu Fedu       Mjob        Fjob  \\\n",
       "1     GP  \"F\"  18     \"U\"   \"GT3\"     \"A\"    4    4  \"at_home\"   \"teacher\"   \n",
       "2     GP  \"F\"  17     \"U\"   \"GT3\"     \"T\"    1    1  \"at_home\"     \"other\"   \n",
       "3     GP  \"F\"  15     \"U\"   \"LE3\"     \"T\"    1    1  \"at_home\"     \"other\"   \n",
       "4     GP  \"F\"  15     \"U\"   \"GT3\"     \"T\"    4    2   \"health\"  \"services\"   \n",
       "5     GP  \"F\"  16     \"U\"   \"GT3\"     \"T\"    3    3    \"other\"     \"other\"   \n",
       "\n",
       "  ... famrel freetime goout Dalc Walc health absences    G1    G2  G3  \n",
       "1 ...      4        3     4    1    1      3        4   \"0\"  \"11\"  11  \n",
       "2 ...      5        3     3    1    1      3        2   \"9\"  \"11\"  11  \n",
       "3 ...      4        3     2    2    3      3        6  \"12\"  \"13\"  12  \n",
       "4 ...      3        2     2    1    1      5        0  \"14\"  \"14\"  14  \n",
       "5 ...      4        3     2    1    2      5        0  \"11\"  \"13\"  13  \n",
       "\n",
       "[5 rows x 33 columns]"
      ]
     },
     "execution_count": 200,
     "metadata": {},
     "output_type": "execute_result"
    }
   ],
   "source": [
    "ds.head()"
   ]
  },
  {
   "cell_type": "code",
   "execution_count": 201,
   "metadata": {},
   "outputs": [
    {
     "data": {
      "text/html": [
       "<div>\n",
       "<style scoped>\n",
       "    .dataframe tbody tr th:only-of-type {\n",
       "        vertical-align: middle;\n",
       "    }\n",
       "\n",
       "    .dataframe tbody tr th {\n",
       "        vertical-align: top;\n",
       "    }\n",
       "\n",
       "    .dataframe thead th {\n",
       "        text-align: right;\n",
       "    }\n",
       "</style>\n",
       "<table border=\"1\" class=\"dataframe\">\n",
       "  <thead>\n",
       "    <tr style=\"text-align: right;\">\n",
       "      <th></th>\n",
       "      <th>school</th>\n",
       "      <th>sex</th>\n",
       "      <th>age</th>\n",
       "      <th>address</th>\n",
       "      <th>famsize</th>\n",
       "      <th>Pstatus</th>\n",
       "      <th>Medu</th>\n",
       "      <th>Fedu</th>\n",
       "      <th>Mjob</th>\n",
       "      <th>Fjob</th>\n",
       "      <th>...</th>\n",
       "      <th>famrel</th>\n",
       "      <th>freetime</th>\n",
       "      <th>goout</th>\n",
       "      <th>Dalc</th>\n",
       "      <th>Walc</th>\n",
       "      <th>health</th>\n",
       "      <th>absences</th>\n",
       "      <th>G1</th>\n",
       "      <th>G2</th>\n",
       "      <th>G3</th>\n",
       "    </tr>\n",
       "  </thead>\n",
       "  <tbody>\n",
       "    <tr>\n",
       "      <th>count</th>\n",
       "      <td>649</td>\n",
       "      <td>649</td>\n",
       "      <td>649</td>\n",
       "      <td>649</td>\n",
       "      <td>649</td>\n",
       "      <td>649</td>\n",
       "      <td>649</td>\n",
       "      <td>649</td>\n",
       "      <td>649</td>\n",
       "      <td>649</td>\n",
       "      <td>...</td>\n",
       "      <td>649</td>\n",
       "      <td>649</td>\n",
       "      <td>649</td>\n",
       "      <td>649</td>\n",
       "      <td>649</td>\n",
       "      <td>649</td>\n",
       "      <td>649</td>\n",
       "      <td>649</td>\n",
       "      <td>649</td>\n",
       "      <td>649</td>\n",
       "    </tr>\n",
       "    <tr>\n",
       "      <th>unique</th>\n",
       "      <td>2</td>\n",
       "      <td>2</td>\n",
       "      <td>8</td>\n",
       "      <td>2</td>\n",
       "      <td>2</td>\n",
       "      <td>2</td>\n",
       "      <td>5</td>\n",
       "      <td>5</td>\n",
       "      <td>5</td>\n",
       "      <td>5</td>\n",
       "      <td>...</td>\n",
       "      <td>5</td>\n",
       "      <td>5</td>\n",
       "      <td>5</td>\n",
       "      <td>5</td>\n",
       "      <td>5</td>\n",
       "      <td>5</td>\n",
       "      <td>24</td>\n",
       "      <td>17</td>\n",
       "      <td>16</td>\n",
       "      <td>17</td>\n",
       "    </tr>\n",
       "    <tr>\n",
       "      <th>top</th>\n",
       "      <td>GP</td>\n",
       "      <td>\"F\"</td>\n",
       "      <td>17</td>\n",
       "      <td>\"U\"</td>\n",
       "      <td>\"GT3\"</td>\n",
       "      <td>\"T\"</td>\n",
       "      <td>2</td>\n",
       "      <td>2</td>\n",
       "      <td>\"other\"</td>\n",
       "      <td>\"other\"</td>\n",
       "      <td>...</td>\n",
       "      <td>4</td>\n",
       "      <td>3</td>\n",
       "      <td>3</td>\n",
       "      <td>1</td>\n",
       "      <td>1</td>\n",
       "      <td>5</td>\n",
       "      <td>0</td>\n",
       "      <td>\"10\"</td>\n",
       "      <td>\"11\"</td>\n",
       "      <td>11</td>\n",
       "    </tr>\n",
       "    <tr>\n",
       "      <th>freq</th>\n",
       "      <td>423</td>\n",
       "      <td>383</td>\n",
       "      <td>179</td>\n",
       "      <td>452</td>\n",
       "      <td>457</td>\n",
       "      <td>569</td>\n",
       "      <td>186</td>\n",
       "      <td>209</td>\n",
       "      <td>258</td>\n",
       "      <td>367</td>\n",
       "      <td>...</td>\n",
       "      <td>317</td>\n",
       "      <td>251</td>\n",
       "      <td>205</td>\n",
       "      <td>451</td>\n",
       "      <td>247</td>\n",
       "      <td>249</td>\n",
       "      <td>244</td>\n",
       "      <td>95</td>\n",
       "      <td>103</td>\n",
       "      <td>104</td>\n",
       "    </tr>\n",
       "  </tbody>\n",
       "</table>\n",
       "<p>4 rows × 33 columns</p>\n",
       "</div>"
      ],
      "text/plain": [
       "       school  sex  age address famsize Pstatus Medu Fedu     Mjob     Fjob  \\\n",
       "count     649  649  649     649     649     649  649  649      649      649   \n",
       "unique      2    2    8       2       2       2    5    5        5        5   \n",
       "top        GP  \"F\"   17     \"U\"   \"GT3\"     \"T\"    2    2  \"other\"  \"other\"   \n",
       "freq      423  383  179     452     457     569  186  209      258      367   \n",
       "\n",
       "       ...  famrel freetime goout Dalc Walc health absences    G1    G2   G3  \n",
       "count  ...     649      649   649  649  649    649      649   649   649  649  \n",
       "unique ...       5        5     5    5    5      5       24    17    16   17  \n",
       "top    ...       4        3     3    1    1      5        0  \"10\"  \"11\"   11  \n",
       "freq   ...     317      251   205  451  247    249      244    95   103  104  \n",
       "\n",
       "[4 rows x 33 columns]"
      ]
     },
     "execution_count": 201,
     "metadata": {},
     "output_type": "execute_result"
    }
   ],
   "source": [
    "ds.describe()"
   ]
  },
  {
   "cell_type": "code",
   "execution_count": 223,
   "metadata": {},
   "outputs": [],
   "source": [
    "gradelabel = ds['G3']"
   ]
  },
  {
   "cell_type": "code",
   "execution_count": 227,
   "metadata": {},
   "outputs": [],
   "source": [
    "ds = ds.drop('G3',axis=1)"
   ]
  },
  {
   "cell_type": "code",
   "execution_count": 228,
   "metadata": {},
   "outputs": [
    {
     "data": {
      "text/html": [
       "<div>\n",
       "<style scoped>\n",
       "    .dataframe tbody tr th:only-of-type {\n",
       "        vertical-align: middle;\n",
       "    }\n",
       "\n",
       "    .dataframe tbody tr th {\n",
       "        vertical-align: top;\n",
       "    }\n",
       "\n",
       "    .dataframe thead th {\n",
       "        text-align: right;\n",
       "    }\n",
       "</style>\n",
       "<table border=\"1\" class=\"dataframe\">\n",
       "  <thead>\n",
       "    <tr style=\"text-align: right;\">\n",
       "      <th></th>\n",
       "      <th>school</th>\n",
       "      <th>sex</th>\n",
       "      <th>age</th>\n",
       "      <th>address</th>\n",
       "      <th>famsize</th>\n",
       "      <th>Pstatus</th>\n",
       "      <th>Medu</th>\n",
       "      <th>Fedu</th>\n",
       "      <th>Mjob</th>\n",
       "      <th>Fjob</th>\n",
       "      <th>...</th>\n",
       "      <th>nursery</th>\n",
       "      <th>higher</th>\n",
       "      <th>internet</th>\n",
       "      <th>romantic</th>\n",
       "      <th>famrel</th>\n",
       "      <th>freetime</th>\n",
       "      <th>goout</th>\n",
       "      <th>Dalc</th>\n",
       "      <th>Walc</th>\n",
       "      <th>health</th>\n",
       "    </tr>\n",
       "  </thead>\n",
       "  <tbody>\n",
       "    <tr>\n",
       "      <th>11</th>\n",
       "      <td>0</td>\n",
       "      <td>0</td>\n",
       "      <td>0</td>\n",
       "      <td>1</td>\n",
       "      <td>0</td>\n",
       "      <td>1</td>\n",
       "      <td>4</td>\n",
       "      <td>4</td>\n",
       "      <td>4</td>\n",
       "      <td>1</td>\n",
       "      <td>...</td>\n",
       "      <td>1</td>\n",
       "      <td>1</td>\n",
       "      <td>1</td>\n",
       "      <td>0</td>\n",
       "      <td>2</td>\n",
       "      <td>2</td>\n",
       "      <td>2</td>\n",
       "      <td>0</td>\n",
       "      <td>1</td>\n",
       "      <td>1</td>\n",
       "    </tr>\n",
       "    <tr>\n",
       "      <th>17</th>\n",
       "      <td>0</td>\n",
       "      <td>0</td>\n",
       "      <td>1</td>\n",
       "      <td>1</td>\n",
       "      <td>0</td>\n",
       "      <td>1</td>\n",
       "      <td>4</td>\n",
       "      <td>4</td>\n",
       "      <td>3</td>\n",
       "      <td>3</td>\n",
       "      <td>...</td>\n",
       "      <td>1</td>\n",
       "      <td>1</td>\n",
       "      <td>1</td>\n",
       "      <td>0</td>\n",
       "      <td>2</td>\n",
       "      <td>1</td>\n",
       "      <td>2</td>\n",
       "      <td>0</td>\n",
       "      <td>1</td>\n",
       "      <td>1</td>\n",
       "    </tr>\n",
       "    <tr>\n",
       "      <th>27</th>\n",
       "      <td>0</td>\n",
       "      <td>1</td>\n",
       "      <td>0</td>\n",
       "      <td>1</td>\n",
       "      <td>0</td>\n",
       "      <td>1</td>\n",
       "      <td>2</td>\n",
       "      <td>2</td>\n",
       "      <td>2</td>\n",
       "      <td>2</td>\n",
       "      <td>...</td>\n",
       "      <td>1</td>\n",
       "      <td>1</td>\n",
       "      <td>1</td>\n",
       "      <td>0</td>\n",
       "      <td>3</td>\n",
       "      <td>1</td>\n",
       "      <td>1</td>\n",
       "      <td>0</td>\n",
       "      <td>1</td>\n",
       "      <td>4</td>\n",
       "    </tr>\n",
       "    <tr>\n",
       "      <th>88</th>\n",
       "      <td>0</td>\n",
       "      <td>0</td>\n",
       "      <td>0</td>\n",
       "      <td>1</td>\n",
       "      <td>0</td>\n",
       "      <td>1</td>\n",
       "      <td>4</td>\n",
       "      <td>2</td>\n",
       "      <td>2</td>\n",
       "      <td>2</td>\n",
       "      <td>...</td>\n",
       "      <td>1</td>\n",
       "      <td>1</td>\n",
       "      <td>1</td>\n",
       "      <td>0</td>\n",
       "      <td>4</td>\n",
       "      <td>2</td>\n",
       "      <td>2</td>\n",
       "      <td>0</td>\n",
       "      <td>2</td>\n",
       "      <td>0</td>\n",
       "    </tr>\n",
       "    <tr>\n",
       "      <th>92</th>\n",
       "      <td>0</td>\n",
       "      <td>0</td>\n",
       "      <td>0</td>\n",
       "      <td>1</td>\n",
       "      <td>0</td>\n",
       "      <td>1</td>\n",
       "      <td>4</td>\n",
       "      <td>3</td>\n",
       "      <td>3</td>\n",
       "      <td>2</td>\n",
       "      <td>...</td>\n",
       "      <td>1</td>\n",
       "      <td>1</td>\n",
       "      <td>1</td>\n",
       "      <td>0</td>\n",
       "      <td>3</td>\n",
       "      <td>4</td>\n",
       "      <td>4</td>\n",
       "      <td>0</td>\n",
       "      <td>2</td>\n",
       "      <td>0</td>\n",
       "    </tr>\n",
       "  </tbody>\n",
       "</table>\n",
       "<p>5 rows × 29 columns</p>\n",
       "</div>"
      ],
      "text/plain": [
       "    school  sex  age  address  famsize  Pstatus  Medu  Fedu  Mjob  Fjob  \\\n",
       "11       0    0    0        1        0        1     4     4     4     1   \n",
       "17       0    0    1        1        0        1     4     4     3     3   \n",
       "27       0    1    0        1        0        1     2     2     2     2   \n",
       "88       0    0    0        1        0        1     4     2     2     2   \n",
       "92       0    0    0        1        0        1     4     3     3     2   \n",
       "\n",
       "     ...    nursery  higher  internet  romantic  famrel  freetime  goout  \\\n",
       "11   ...          1       1         1         0       2         2      2   \n",
       "17   ...          1       1         1         0       2         1      2   \n",
       "27   ...          1       1         1         0       3         1      1   \n",
       "88   ...          1       1         1         0       4         2      2   \n",
       "92   ...          1       1         1         0       3         4      4   \n",
       "\n",
       "    Dalc  Walc  health  \n",
       "11     0     1       1  \n",
       "17     0     1       1  \n",
       "27     0     1       4  \n",
       "88     0     2       0  \n",
       "92     0     2       0  \n",
       "\n",
       "[5 rows x 29 columns]"
      ]
     },
     "execution_count": 228,
     "metadata": {},
     "output_type": "execute_result"
    }
   ],
   "source": [
    "ds.head()"
   ]
  },
  {
   "cell_type": "code",
   "execution_count": 202,
   "metadata": {},
   "outputs": [],
   "source": [
    "from sklearn.preprocessing import LabelEncoder\n",
    "ds = ds.apply(LabelEncoder().fit_transform)"
   ]
  },
  {
   "cell_type": "code",
   "execution_count": 230,
   "metadata": {},
   "outputs": [
    {
     "data": {
      "text/plain": [
       "(18, 29)"
      ]
     },
     "execution_count": 230,
     "metadata": {},
     "output_type": "execute_result"
    }
   ],
   "source": [
    "ds.shape"
   ]
  },
  {
   "cell_type": "code",
   "execution_count": 229,
   "metadata": {},
   "outputs": [
    {
     "data": {
      "text/plain": [
       "<matplotlib.axes._subplots.AxesSubplot at 0x1fb0c8b0898>"
      ]
     },
     "execution_count": 229,
     "metadata": {},
     "output_type": "execute_result"
    },
    {
     "data": {
      "image/png": "[encoded data removed]",
      "text/plain": [
       "<Figure size 432x288 with 1 Axes>"
      ]
     },
     "metadata": {},
     "output_type": "display_data"
    }
   ],
   "source": [
    "ds.boxplot()"
   ]
  },
  {
   "cell_type": "code",
   "execution_count": 271,
   "metadata": {},
   "outputs": [
    {
     "data": {
      "text/plain": [
       "([array([11.,  0., 11.,  0.,  0.,  3.,  0.,  1.,  0.,  3.]),\n",
       "  array([ 9.,  0., 12.,  0.,  0.,  3.,  0.,  3.,  0.,  2.]),\n",
       "  array([11.,  0., 12.,  0.,  0.,  4.,  0.,  1.,  0.,  1.]),\n",
       "  array([11.,  0.,  8.,  0.,  0.,  7.,  0.,  1.,  0.,  2.]),\n",
       "  array([13.,  0.,  7.,  0.,  0.,  2.,  0.,  4.,  0.,  3.]),\n",
       "  array([10.,  0., 11.,  0.,  0.,  2.,  0.,  3.,  0.,  3.]),\n",
       "  array([ 9.,  0., 10.,  0.,  0.,  4.,  0.,  2.,  0.,  4.]),\n",
       "  array([12.,  0., 10.,  0.,  0.,  1.,  0.,  2.,  0.,  4.]),\n",
       "  array([13.,  0.,  9.,  0.,  0.,  3.,  0.,  4.,  0.,  0.]),\n",
       "  array([11.,  0., 10.,  0.,  0.,  2.,  0.,  1.,  0.,  5.]),\n",
       "  array([ 9.,  0., 13.,  0.,  0.,  3.,  0.,  3.,  0.,  1.]),\n",
       "  array([ 9.,  0., 11.,  0.,  0.,  3.,  0.,  6.,  0.,  0.]),\n",
       "  array([10.,  0., 10.,  0.,  0.,  4.,  0.,  4.,  0.,  1.]),\n",
       "  array([12.,  0., 10.,  0.,  0.,  2.,  0.,  1.,  0.,  4.]),\n",
       "  array([10.,  0.,  8.,  0.,  0.,  3.,  0.,  4.,  0.,  4.]),\n",
       "  array([11.,  0.,  9.,  0.,  0.,  1.,  0.,  7.,  0.,  1.]),\n",
       "  array([12.,  0.,  6.,  0.,  0.,  4.,  0.,  4.,  0.,  3.]),\n",
       "  array([9., 0., 9., 0., 0., 5., 0., 6., 0., 0.])],\n",
       " array([0. , 0.4, 0.8, 1.2, 1.6, 2. , 2.4, 2.8, 3.2, 3.6, 4. ]),\n",
       " <a list of 18 Lists of Patches objects>)"
      ]
     },
     "execution_count": 271,
     "metadata": {},
     "output_type": "execute_result"
    },
    {
     "data": {
      "image/png": "[encoded data removed]",
      "text/plain": [
       "<Figure size 432x288 with 1 Axes>"
      ]
     },
     "metadata": {},
     "output_type": "display_data"
    }
   ],
   "source": [
    "mlp.pyplot.hist(ds)"
   ]
  },
  {
   "cell_type": "code",
   "execution_count": 272,
   "metadata": {},
   "outputs": [
    {
     "data": {
      "text/plain": [
       "[<matplotlib.lines.Line2D at 0x1fb0ce7b940>,\n",
       " <matplotlib.lines.Line2D at 0x1fb0ce7ba90>,\n",
       " <matplotlib.lines.Line2D at 0x1fb0ce7bbe0>,\n",
       " <matplotlib.lines.Line2D at 0x1fb0ce7bd30>,\n",
       " <matplotlib.lines.Line2D at 0x1fb0ce7be80>,\n",
       " <matplotlib.lines.Line2D at 0x1fb0ce7bfd0>,\n",
       " <matplotlib.lines.Line2D at 0x1fb0ce83160>,\n",
       " <matplotlib.lines.Line2D at 0x1fb0ce832b0>,\n",
       " <matplotlib.lines.Line2D at 0x1fb0ce83400>,\n",
       " <matplotlib.lines.Line2D at 0x1fb0ce83550>,\n",
       " <matplotlib.lines.Line2D at 0x1fb0cdb5ba8>,\n",
       " <matplotlib.lines.Line2D at 0x1fb0ce837b8>,\n",
       " <matplotlib.lines.Line2D at 0x1fb0ce83908>,\n",
       " <matplotlib.lines.Line2D at 0x1fb0ce83a58>,\n",
       " <matplotlib.lines.Line2D at 0x1fb0ce83ba8>,\n",
       " <matplotlib.lines.Line2D at 0x1fb0ce83cf8>,\n",
       " <matplotlib.lines.Line2D at 0x1fb0ce83e48>,\n",
       " <matplotlib.lines.Line2D at 0x1fb0ce83f98>,\n",
       " <matplotlib.lines.Line2D at 0x1fb0ce88128>,\n",
       " <matplotlib.lines.Line2D at 0x1fb0ce88278>,\n",
       " <matplotlib.lines.Line2D at 0x1fb0ce883c8>,\n",
       " <matplotlib.lines.Line2D at 0x1fb0ce88518>,\n",
       " <matplotlib.lines.Line2D at 0x1fb0ce88668>,\n",
       " <matplotlib.lines.Line2D at 0x1fb0ce887b8>,\n",
       " <matplotlib.lines.Line2D at 0x1fb0ce88908>,\n",
       " <matplotlib.lines.Line2D at 0x1fb0ce88a58>,\n",
       " <matplotlib.lines.Line2D at 0x1fb0ce88ba8>,\n",
       " <matplotlib.lines.Line2D at 0x1fb0ce88cf8>,\n",
       " <matplotlib.lines.Line2D at 0x1fb0ce88e48>]"
      ]
     },
     "execution_count": 272,
     "metadata": {},
     "output_type": "execute_result"
    },
    {
     "data": {
      "image/png": "[encoded data removed]",
      "text/plain": [
       "<Figure size 432x288 with 1 Axes>"
      ]
     },
     "metadata": {},
     "output_type": "display_data"
    }
   ],
   "source": [
    "mlp.pyplot.plot(ds)"
   ]
  },
  {
   "cell_type": "code",
   "execution_count": 219,
   "metadata": {},
   "outputs": [
    {
     "name": "stdout",
     "output_type": "stream",
     "text": [
      "school         0.00\n",
      "sex            1.00\n",
      "age            1.00\n",
      "address        0.00\n",
      "famsize        0.00\n",
      "Pstatus        0.00\n",
      "Medu           1.75\n",
      "Fedu           1.75\n",
      "Mjob           1.75\n",
      "Fjob           1.00\n",
      "reason         3.00\n",
      "guardian       0.00\n",
      "traveltime     0.00\n",
      "studytime      2.00\n",
      "failures       0.00\n",
      "schoolsup      0.00\n",
      "famsup         1.00\n",
      "paid           0.00\n",
      "activities     1.00\n",
      "nursery        0.00\n",
      "higher         0.00\n",
      "internet       0.00\n",
      "romantic       0.00\n",
      "famrel         1.00\n",
      "freetime       1.75\n",
      "goout          1.00\n",
      "Dalc           0.00\n",
      "Walc           1.00\n",
      "health         3.00\n",
      "absences      19.50\n",
      "G1             1.75\n",
      "G2             2.00\n",
      "G3             2.00\n",
      "dtype: float64\n"
     ]
    }
   ],
   "source": [
    "Q1 = ds.quantile(0.25)\n",
    "Q3 = ds.quantile(0.75)\n",
    "IQR = Q3 - Q1\n",
    "print(IQR)\n"
   ]
  },
  {
   "cell_type": "code",
   "execution_count": 220,
   "metadata": {},
   "outputs": [
    {
     "data": {
      "text/plain": [
       "(22, 33)"
      ]
     },
     "execution_count": 220,
     "metadata": {},
     "output_type": "execute_result"
    }
   ],
   "source": [
    "ds.shape"
   ]
  },
  {
   "cell_type": "code",
   "execution_count": 221,
   "metadata": {},
   "outputs": [
    {
     "data": {
      "text/plain": [
       "(18, 33)"
      ]
     },
     "execution_count": 221,
     "metadata": {},
     "output_type": "execute_result"
    }
   ],
   "source": [
    "ds = ds[~((ds < (Q1 - 1.5 * IQR)) |(ds > (Q3 + 1.5 * IQR))).any(axis=1)]\n",
    "ds.shape"
   ]
  },
  {
   "cell_type": "code",
   "execution_count": 260,
   "metadata": {},
   "outputs": [],
   "source": [
    "from sklearn.model_selection import train_test_split\n",
    "X_train, X_test, y_train, y_test = train_test_split(ds, gradelabel, test_size = 0.2, random_state = 0)"
   ]
  },
  {
   "cell_type": "code",
   "execution_count": 261,
   "metadata": {},
   "outputs": [],
   "source": [
    "from sklearn.metrics import accuracy_score, log_loss\n",
    "from sklearn.neighbors import KNeighborsClassifier\n",
    "from sklearn.svm import SVC, LinearSVC, NuSVC\n",
    "from sklearn.tree import DecisionTreeClassifier\n",
    "from sklearn.ensemble import RandomForestClassifier, AdaBoostClassifier, GradientBoostingClassifier\n",
    "from sklearn.naive_bayes import GaussianNB\n",
    "from sklearn.discriminant_analysis import LinearDiscriminantAnalysis\n",
    "from sklearn.linear_model import LinearRegression\n",
    "\n",
    "classifiers = [\n",
    "    KNeighborsClassifier(3),\n",
    "    SVC(kernel=\"rbf\", C=0.025, probability=True),\n",
    "    DecisionTreeClassifier(),\n",
    "    RandomForestClassifier(),\n",
    "    AdaBoostClassifier(),\n",
    "    GradientBoostingClassifier(),\n",
    "    GaussianNB(),\n",
    "    LinearDiscriminantAnalysis()]\n",
    "    \n",
    "linear = LinearRegression()\n",
    "    \n"
   ]
  },
  {
   "cell_type": "code",
   "execution_count": 262,
   "metadata": {},
   "outputs": [
    {
     "name": "stdout",
     "output_type": "stream",
     "text": [
      "==============================\n",
      "KNeighborsClassifier\n",
      "Predicted values\n",
      "[6 5 4 4]\n",
      "Accuracy: 50.0000%\n",
      "==============================\n",
      "SVC\n",
      "Predicted values\n",
      "[5 5 5 5]\n",
      "Accuracy: 50.0000%\n",
      "==============================\n",
      "DecisionTreeClassifier\n",
      "Predicted values\n",
      "[7 9 6 9]\n",
      "Accuracy: 0.0000%\n",
      "==============================\n",
      "RandomForestClassifier\n",
      "Predicted values\n",
      "[6 5 4 4]\n",
      "Accuracy: 50.0000%\n",
      "==============================\n",
      "AdaBoostClassifier\n",
      "Predicted values\n",
      "[5 5 4 5]\n",
      "Accuracy: 25.0000%\n",
      "==============================\n",
      "GradientBoostingClassifier\n",
      "Predicted values\n",
      "[5 5 4 4]\n",
      "Accuracy: 25.0000%\n",
      "==============================\n",
      "GaussianNB\n",
      "Predicted values\n",
      "[5 5 6 4]\n",
      "Accuracy: 25.0000%\n",
      "==============================\n",
      "LinearDiscriminantAnalysis\n",
      "Predicted values\n",
      "[5 7 4 7]\n",
      "Accuracy: 0.0000%\n",
      "==============================\n"
     ]
    },
    {
     "name": "stderr",
     "output_type": "stream",
     "text": [
      "C:\\Users\\Nome\\Anaconda3\\lib\\site-packages\\sklearn\\discriminant_analysis.py:388: UserWarning: Variables are collinear.\n",
      "  warnings.warn(\"Variables are collinear.\")\n"
     ]
    }
   ],
   "source": [
    "log_cols=[\"Classifier\", \"Accuracy\", \"Log Loss\"]\n",
    "log = pd.DataFrame(columns=log_cols)\n",
    "\n",
    "for clf in classifiers:\n",
    "    clf.fit(X_train, y_train)\n",
    "    name = clf.__class__.__name__\n",
    "    print(\"=\"*30)\n",
    "    print(name)\n",
    "    \n",
    "    print('Predicted values')\n",
    "    train_predictions = clf.predict(X_test)\n",
    "    print(train_predictions)\n",
    "    acc = accuracy_score(y_test, train_predictions)\n",
    "    print(\"Accuracy: {:.4%}\".format(acc))\n",
    "    \n",
    "print(\"=\"*30)\n",
    "\n"
   ]
  },
  {
   "cell_type": "code",
   "execution_count": 263,
   "metadata": {},
   "outputs": [
    {
     "data": {
      "text/plain": [
       "LinearRegression(copy_X=True, fit_intercept=True, n_jobs=1, normalize=False)"
      ]
     },
     "execution_count": 263,
     "metadata": {},
     "output_type": "execute_result"
    }
   ],
   "source": [
    "linear.fit(X_train, y_train)"
   ]
  },
  {
   "cell_type": "code",
   "execution_count": 264,
   "metadata": {},
   "outputs": [],
   "source": [
    "val = linear.predict(X_test)"
   ]
  },
  {
   "cell_type": "code",
   "execution_count": 265,
   "metadata": {},
   "outputs": [],
   "source": [
    "from sklearn import metrics"
   ]
  },
  {
   "cell_type": "code",
   "execution_count": 266,
   "metadata": {},
   "outputs": [
    {
     "data": {
      "text/plain": [
       "72.17777264879678"
      ]
     },
     "execution_count": 266,
     "metadata": {},
     "output_type": "execute_result"
    }
   ],
   "source": [
    "metrics.mean_squared_error(val,y_test)"
   ]
  },
  {
   "cell_type": "code",
   "execution_count": null,
   "metadata": {},
   "outputs": [],
   "source": []
  }
 ],
 "metadata": {
  "kernelspec": {
   "display_name": "Python 3",
   "language": "python",
   "name": "python3"
  },
  "language_info": {
   "codemirror_mode": {
    "name": "ipython",
    "version": 3
   },
   "file_extension": ".py",
   "mimetype": "text/x-python",
   "name": "python",
   "nbconvert_exporter": "python",
   "pygments_lexer": "ipython3",
   "version": "3.6.5"
  }
 },
 "nbformat": 4,
 "nbformat_minor": 2
}
